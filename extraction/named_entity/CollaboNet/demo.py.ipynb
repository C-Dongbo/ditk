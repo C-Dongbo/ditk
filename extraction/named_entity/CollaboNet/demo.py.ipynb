{
 "cells": [
  {
   "cell_type": "code",
   "execution_count": null,
   "metadata": {
    "collapsed": true
   },
   "outputs": [],
   "source": [
    "from main import CollaboNet\n",
    "\n",
    "# Create an object of type CollaboNet\n",
    "collaboNet_obj = CollaboNet()"
   ]
  },
  {
   "cell_type": "code",
   "execution_count": null,
   "metadata": {},
   "outputs": [],
   "source": [
    "# Read dataset\n",
    "file_dict = {'train':'train_dev', 'dev':'dev', 'test':'test'}\n",
    "dateset_name = \"BC2GM\"\n",
    "datasets = collaboNet_obj.read_dataset(file_dict, dateset_name)"
   ]
  },
  {
   "cell_type": "code",
   "execution_count": null,
   "metadata": {},
   "outputs": [],
   "source": [
    "# Training\n",
    "collaboNet_obj.train(datasets)"
   ]
  },
  {
   "cell_type": "code",
   "execution_count": null,
   "metadata": {},
   "outputs": [],
   "source": [
    "# Predictions\n",
    "collaboNet_obj.predict(collaboNet_obj.modelDict)"
   ]
  },
  {
   "cell_type": "code",
   "execution_count": null,
   "metadata": {},
   "outputs": [],
   "source": [
    "# Evaluations\n",
    "evaluations = collaboNet_obj.evaluate(None, None)\n",
    "\n",
    "precision, recall, F1 = evaluations[0], evaluations[1], evaluations[2]\n",
    "\n",
    "print (\"Precision :\", precision)\n",
    "print (\"Recall :\", recall)\n",
    "print (\"F1 score :\", F1)"
   ]
  }
 ],
 "metadata": {
  "kernelspec": {
   "display_name": "Python 2",
   "language": "python",
   "name": "python2"
  },
  "language_info": {
   "codemirror_mode": {
    "name": "ipython",
    "version": 2
   },
   "file_extension": ".py",
   "mimetype": "text/x-python",
   "name": "python",
   "nbconvert_exporter": "python",
   "pygments_lexer": "ipython2",
   "version": "2.7.6"
  }
 },
 "nbformat": 4,
 "nbformat_minor": 0
}
