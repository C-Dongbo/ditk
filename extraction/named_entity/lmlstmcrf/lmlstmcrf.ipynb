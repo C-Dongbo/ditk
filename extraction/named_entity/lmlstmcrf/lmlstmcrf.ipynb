{
 "cells": [
  {
   "cell_type": "markdown",
   "metadata": {},
   "source": [
    "# Empower Sequence Labeling with Task-Aware Language Model"
   ]
  },
  {
   "cell_type": "markdown",
   "metadata": {},
   "source": [
    "Setup system paths and modules:"
   ]
  },
  {
   "cell_type": "code",
   "execution_count": 1,
   "metadata": {},
   "outputs": [],
   "source": [
    "import sys, os\n",
    "\n",
    "ditk_path = os.path.abspath(os.path.join(\"../../..\"))\n",
    "if ditk_path not in sys.path:\n",
    "    sys.path.append(ditk_path)\n"
   ]
  },
  {
   "cell_type": "markdown",
   "metadata": {},
   "source": [
    "## Importing modules"
   ]
  },
  {
   "cell_type": "code",
   "execution_count": 2,
   "metadata": {},
   "outputs": [],
   "source": [
    "from extraction.named_entity.lmlstmcrf.hparams import hparams as hp\n",
    "from extraction.named_entity.lmlstmcrf.lmlstmcrf import Lmlstmcrf"
   ]
  },
  {
   "cell_type": "markdown",
   "metadata": {},
   "source": [
    "## Setting up file paths"
   ]
  },
  {
   "cell_type": "code",
   "execution_count": 3,
   "metadata": {},
   "outputs": [],
   "source": [
    "data_dir = os.path.join(ditk_path, 'extraction/named_entity/lmlstmcrf')\n",
    "\n",
    "data_sets = ['conll', 'ontonotes', 'chemdner']\n",
    "\n",
    "emb_file = data_dir + \"/embedding/glove.6B.100d.embedding\"\n",
    "\n",
    "# choose dataset to use here\n",
    "chosen_type = data_sets[0]\n",
    "train_file = data_dir + \"/data/{}/out.train\".format(chosen_type)\n",
    "dev_file = data_dir + \"/data/{}/out.testa\".format(chosen_type)\n",
    "test_file = data_dir + \"/data/{}/out.testb\".format(chosen_type)\n",
    "\n",
    "# set hparam files\n",
    "hp.checkpoint_dir = data_dir + \"/checkpoint/\"\n",
    "hp.checkpoint = data_dir + \"/checkpoint/conll.model\"\n",
    "hp.emb_file = emb_file\n",
    "\n",
    "if not os.path.exists(hp.checkpoint_dir):\n",
    "    os.makedirs(hp.checkpoint_dir)\n",
    "    \n",
    "# set gpu\n",
    "hp.gpu = -1 # -1 for no gpu"
   ]
  },
  {
   "cell_type": "markdown",
   "metadata": {},
   "source": [
    "## Creating LMLSTMCRF object"
   ]
  },
  {
   "cell_type": "code",
   "execution_count": 4,
   "metadata": {},
   "outputs": [
    {
     "name": "stdout",
     "output_type": "stream",
     "text": [
      "setting:\n",
      "<class 'extraction.named_entity.lmlstmcrf.hparams.hparams'>\n"
     ]
    }
   ],
   "source": [
    "model = Lmlstmcrf()"
   ]
  },
  {
   "cell_type": "markdown",
   "metadata": {},
   "source": [
    "## Read dataset"
   ]
  },
  {
   "cell_type": "code",
   "execution_count": 5,
   "metadata": {},
   "outputs": [],
   "source": [
    "data = model.read_dataset({\n",
    "    \"train\": train_file,\n",
    "    \"test\": test_file,\n",
    "    \"dev\": dev_file,\n",
    "})"
   ]
  },
  {
   "cell_type": "markdown",
   "metadata": {},
   "source": [
    "## Load pretrained model"
   ]
  },
  {
   "cell_type": "code",
   "execution_count": 6,
   "metadata": {},
   "outputs": [
    {
     "name": "stderr",
     "output_type": "stream",
     "text": [
      "/anaconda3/envs/lmlstmcrf/lib/python3.7/site-packages/torch/nn/modules/rnn.py:46: UserWarning: dropout option adds dropout after all but last recurrent layer, so non-zero dropout expects num_layers greater than 1, but got dropout=0.55 and num_layers=1\n",
      "  \"num_layers={}\".format(dropout, num_layers))\n"
     ]
    }
   ],
   "source": [
    "model.load_model(hp.checkpoint)"
   ]
  },
  {
   "cell_type": "markdown",
   "metadata": {},
   "source": [
    "## Train model"
   ]
  },
  {
   "cell_type": "code",
   "execution_count": 9,
   "metadata": {},
   "outputs": [],
   "source": [
    "model.train(data) # takes a very long time without gpu"
   ]
  },
  {
   "cell_type": "markdown",
   "metadata": {},
   "source": [
    "## Make prediction"
   ]
  },
  {
   "cell_type": "code",
   "execution_count": 7,
   "metadata": {},
   "outputs": [
    {
     "name": "stdout",
     "output_type": "stream",
     "text": [
      "annotating\n",
      "\r",
      " - Process:   0%|          | 0/3453 [00:00<?, ?it/s]"
     ]
    },
    {
     "name": "stderr",
     "output_type": "stream",
     "text": [
      "/anaconda3/envs/lmlstmcrf/lib/python3.7/site-packages/torch/nn/functional.py:1332: UserWarning: nn.functional.sigmoid is deprecated. Use torch.sigmoid instead.\n",
      "  warnings.warn(\"nn.functional.sigmoid is deprecated. Use torch.sigmoid instead.\")\n"
     ]
    },
    {
     "name": "stdout",
     "output_type": "stream",
     "text": [
      "                                                                \r"
     ]
    }
   ],
   "source": [
    "predictions = model.predict(data)"
   ]
  },
  {
   "cell_type": "code",
   "execution_count": 8,
   "metadata": {},
   "outputs": [
    {
     "data": {
      "text/plain": [
       "[('SOCCER', 'O', 'O'),\n",
       " ('-', 'O', 'O'),\n",
       " ('Nadim', 'I-PER', 'I-PER'),\n",
       " ('Ladki', 'I-PER', 'I-PER'),\n",
       " ('AL-AIN', 'I-ORG', 'I-LOC'),\n",
       " (',', 'I-ORG', 'O'),\n",
       " ('Japan', 'I-LOC', 'I-LOC'),\n",
       " ('began', 'O', 'O'),\n",
       " ('But', 'O', 'O'),\n",
       " ('China', 'O', 'I-LOC')]"
      ]
     },
     "execution_count": 8,
     "metadata": {},
     "output_type": "execute_result"
    }
   ],
   "source": [
    "# output example \n",
    "predictions[:10]"
   ]
  },
  {
   "cell_type": "markdown",
   "metadata": {},
   "source": [
    "## Evaluate model"
   ]
  },
  {
   "cell_type": "code",
   "execution_count": 9,
   "metadata": {},
   "outputs": [
    {
     "name": "stdout",
     "output_type": "stream",
     "text": [
      "start\n",
      "/Users/kevinli/school/csci548/project/ditk/extraction/named_entity/lmlstmcrf/checkpoint/conll.model : total : test_f1: 0.9078 test_rec: 0.9069 test_pre: 0.9088 test_acc: 0.9813 | \n",
      "\n",
      "/Users/kevinli/school/csci548/project/ditk/extraction/named_entity/lmlstmcrf/checkpoint/conll.model : I-PER : test_f1: 0.9708 test_rec: 0.9715 test_pre: 0.9701 test_acc: 0.0000 | {'I-ORG': 30, 'O': 19, 'I-LOC': 30}\n",
      "\n",
      "/Users/kevinli/school/csci548/project/ditk/extraction/named_entity/lmlstmcrf/checkpoint/conll.model : I-LOC : test_f1: 0.9234 test_rec: 0.9479 test_pre: 0.9000 test_acc: 0.0000 | {'I-MISC': 29, 'I-ORG': 53, 'I-PER': 10, 'O': 8}\n",
      "\n",
      "/Users/kevinli/school/csci548/project/ditk/extraction/named_entity/lmlstmcrf/checkpoint/conll.model : O : test_f1: 0.9946 test_rec: 0.9937 test_pre: 0.9955 test_acc: 0.0000 | {'I-MISC': 113, 'I-ORG': 74, 'I-LOC': 37, 'I-PER': 19}\n",
      "\n",
      "/Users/kevinli/school/csci548/project/ditk/extraction/named_entity/lmlstmcrf/checkpoint/conll.model : I-MISC : test_f1: 0.8100 test_rec: 0.8229 test_pre: 0.7974 test_acc: 0.0000 | {'O': 61, 'I-ORG': 53, 'I-LOC': 24, 'I-PER': 22, 'B-MISC': 1}\n",
      "\n",
      "/Users/kevinli/school/csci548/project/ditk/extraction/named_entity/lmlstmcrf/checkpoint/conll.model : I-ORG : test_f1: 0.9019 test_rec: 0.8928 test_pre: 0.9111 test_acc: 0.0000 | {'I-PER': 32, 'I-MISC': 42, 'I-LOC': 108, 'O': 84, 'B-MISC': 1}\n",
      "\n",
      "/Users/kevinli/school/csci548/project/ditk/extraction/named_entity/lmlstmcrf/checkpoint/conll.model : B-ORG : test_f1: 0.2857 test_rec: 0.1667 test_pre: 1.0000 test_acc: 0.0000 | {'I-ORG': 5}\n",
      "\n",
      "/Users/kevinli/school/csci548/project/ditk/extraction/named_entity/lmlstmcrf/checkpoint/conll.model : B-LOC : test_f1: 0.2500 test_rec: 0.1429 test_pre: 1.0000 test_acc: 0.0000 | {'O': 1, 'I-LOC': 3, 'I-ORG': 2}\n",
      "\n",
      "/Users/kevinli/school/csci548/project/ditk/extraction/named_entity/lmlstmcrf/checkpoint/conll.model : B-MISC : test_f1: 0.3077 test_rec: 0.2222 test_pre: 0.5000 test_acc: 0.0000 | {'I-MISC': 6, 'O': 1}\n",
      "\n",
      "(0.9088005677785663, 0.9068696883852692, 0.9078341013824885)\n"
     ]
    }
   ],
   "source": [
    "score = model.evaluate(predictions, data)\n",
    "print(score)"
   ]
  },
  {
   "cell_type": "code",
   "execution_count": null,
   "metadata": {},
   "outputs": [],
   "source": []
  }
 ],
 "metadata": {
  "kernelspec": {
   "display_name": "Python [conda env:lmlstmcrf]",
   "language": "python",
   "name": "conda-env-lmlstmcrf-py"
  },
  "language_info": {
   "codemirror_mode": {
    "name": "ipython",
    "version": 3
   },
   "file_extension": ".py",
   "mimetype": "text/x-python",
   "name": "python",
   "nbconvert_exporter": "python",
   "pygments_lexer": "ipython3",
   "version": "3.7.3"
  }
 },
 "nbformat": 4,
 "nbformat_minor": 2
}
