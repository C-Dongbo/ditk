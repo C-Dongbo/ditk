{
 "cells": [
  {
   "cell_type": "code",
   "execution_count": 1,
   "metadata": {},
   "outputs": [
    {
     "name": "stderr",
     "output_type": "stream",
     "text": [
      "Using TensorFlow backend.\n"
     ]
    },
    {
     "name": "stdout",
     "output_type": "stream",
     "text": [
      "Class initialised.\n",
      "import done\n"
     ]
    }
   ],
   "source": [
    "from main import few_shot\n",
    "print (\"import done\")"
   ]
  },
  {
   "cell_type": "code",
   "execution_count": 2,
   "metadata": {},
   "outputs": [
    {
     "name": "stdout",
     "output_type": "stream",
     "text": [
      "Object created : <main.few_shot object at 0x182243bc50>\n"
     ]
    }
   ],
   "source": [
    "# Initialize object\n",
    "few_shot_obj = few_shot(epochs=2)\n",
    "print (\"Object created :\", few_shot_obj)"
   ]
  },
  {
   "cell_type": "code",
   "execution_count": 3,
   "metadata": {},
   "outputs": [
    {
     "name": "stdout",
     "output_type": "stream",
     "text": [
      "Reading done\n"
     ]
    }
   ],
   "source": [
    "# Create arguments for reading datasets\n",
    "file_dict = {'train':{'train':\"data/train.txt\"},\n",
    "             'dev':{'dev':\"data/dev.txt\"},\n",
    "             'test':{'test':\"data/test.txt\"}}\n",
    "\n",
    "# Load datasets\n",
    "few_shot_obj.read_dataset(file_dict, \"\")\n",
    "# Datasets are stored in cnnBLSTM_Obj as instance variables\n",
    "\n",
    "print (\"Reading done\")"
   ]
  },
  {
   "cell_type": "code",
   "execution_count": 4,
   "metadata": {},
   "outputs": [
    {
     "name": "stdout",
     "output_type": "stream",
     "text": [
      "Model built. Saved model.png\n",
      "\n",
      "Epoch 0/2\n",
      "f1 test  0.3439\n",
      "f1 dev  0.3876 \n",
      "\n",
      "Epoch 1/2\n",
      "f1 test  0.5016\n",
      "f1 dev  0.5519 \n",
      "\n",
      "Final F1 test score:  0.5015566937832681\n",
      "Training finished.\n",
      "Model weights saved.\n",
      "Model weights cleared.\n"
     ]
    }
   ],
   "source": [
    "# Training\n",
    "few_shot_obj.train(None)"
   ]
  },
  {
   "cell_type": "code",
   "execution_count": 5,
   "metadata": {},
   "outputs": [
    {
     "name": "stdout",
     "output_type": "stream",
     "text": [
      "Prediction done\n"
     ]
    }
   ],
   "source": [
    "# Predictions\n",
    "predictions = few_shot_obj.predict(few_shot_obj.cnnBLSTM_Obj.test_batch)\n",
    "\n",
    "print (\"Prediction done\")"
   ]
  },
  {
   "cell_type": "code",
   "execution_count": 6,
   "metadata": {},
   "outputs": [
    {
     "name": "stdout",
     "output_type": "stream",
     "text": [
      "Evaluation metrics:\n",
      "0.034021744784893095\n",
      "Precision: 3.4021744784893095 \tRecall: 23.158640226628897 \tF1 score: 5.932779970063954\n"
     ]
    }
   ],
   "source": [
    "# Run Evaluations\n",
    "evaluations = few_shot_obj.evaluate(predictions, few_shot_obj.groundTruthLabels)\n",
    "print (\"Evaluation metrics:\")\n",
    "print (evaluations[0])\n",
    "print (\"Precision:\",evaluations[0]*100, \"\\tRecall:\", evaluations[1]*100, \"\\tF1 score:\", evaluations[2]*100)"
   ]
  },
  {
   "cell_type": "code",
   "execution_count": null,
   "metadata": {
    "collapsed": true
   },
   "outputs": [],
   "source": []
  }
 ],
 "metadata": {
  "kernelspec": {
   "display_name": "Python 3",
   "language": "python",
   "name": "python3"
  },
  "language_info": {
   "codemirror_mode": {
    "name": "ipython",
    "version": 3
   },
   "file_extension": ".py",
   "mimetype": "text/x-python",
   "name": "python",
   "nbconvert_exporter": "python",
   "pygments_lexer": "ipython3",
   "version": "3.6.8"
  }
 },
 "nbformat": 4,
 "nbformat_minor": 1
}
