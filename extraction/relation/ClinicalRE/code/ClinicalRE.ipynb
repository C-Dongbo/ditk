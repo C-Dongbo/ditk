{
 "cells": [
  {
   "cell_type": "markdown",
   "metadata": {},
   "source": [
    "# Relation extraction from clinical texts using domain invariant convolutional neural network"
   ]
  },
  {
   "cell_type": "code",
   "execution_count": 1,
   "metadata": {},
   "outputs": [],
   "source": [
    "from ClinicalRE import clinicalRE\n",
    "RE = clinicalRE()"
   ]
  },
  {
   "cell_type": "markdown",
   "metadata": {},
   "source": [
    "## Read and convert train dataset"
   ]
  },
  {
   "cell_type": "code",
   "execution_count": 2,
   "metadata": {},
   "outputs": [
    {
     "name": "stdout",
     "output_type": "stream",
     "text": [
      "Successfully read data/origin/SemEval.txt.\n"
     ]
    }
   ],
   "source": [
    "coverted_txt_path = \"data/converted/SemEval.txt\"\n",
    "RE.read_dataset(\"data/origin/SemEval.txt\", coverted_txt_path)"
   ]
  },
  {
   "cell_type": "markdown",
   "metadata": {},
   "source": [
    "## Train, Test and Evaluate"
   ]
  },
  {
   "cell_type": "code",
   "execution_count": 3,
   "metadata": {},
   "outputs": [
    {
     "name": "stdout",
     "output_type": "stream",
     "text": [
      "Training Started.\n",
      "WARNING:tensorflow:From /Library/Frameworks/Python.framework/Versions/3.7/lib/python3.7/site-packages/tensorflow/python/framework/op_def_library.py:263: colocate_with (from tensorflow.python.framework.ops) is deprecated and will be removed in a future version.\n",
      "Instructions for updating:\n",
      "Colocations handled automatically by placer.\n",
      "WARNING:tensorflow:From /Users/Candy/Desktop/ditk/extraction/relation/ClinicalRE/code/cnn_text.py:72: calling dropout (from tensorflow.python.ops.nn_ops) with keep_prob is deprecated and will be removed in a future version.\n",
      "Instructions for updating:\n",
      "Please use `rate` instead of `keep_prob`. Rate should be set to `rate = 1 - keep_prob`.\n",
      "WARNING:tensorflow:From /Library/Frameworks/Python.framework/Versions/3.7/lib/python3.7/site-packages/tensorflow/python/ops/array_grad.py:425: to_int32 (from tensorflow.python.ops.math_ops) is deprecated and will be removed in a future version.\n",
      "Instructions for updating:\n",
      "Use tf.cast instead.\n",
      "WARNING:tensorflow:From /Library/Frameworks/Python.framework/Versions/3.7/lib/python3.7/site-packages/tensorflow/python/util/tf_should_use.py:193: initialize_all_variables (from tensorflow.python.ops.variables) is deprecated and will be removed after 2017-03-02.\n",
      "Instructions for updating:\n",
      "Use `tf.global_variables_initializer` instead.\n",
      "Kold 1 :\n",
      "Precision:  0.23076923076923078\n",
      "Recall:  0.5625\n",
      "F1 Score:  0.32727272727272727\n",
      "-------------------------------\n",
      "Kold 2 :\n",
      "Precision:  0.2564102564102564\n",
      "Recall:  0.625\n",
      "F1 Score:  0.3636363636363636\n",
      "-------------------------------\n",
      "Kold 3 :\n",
      "Precision:  0.2608695652173913\n",
      "Recall:  0.6666666666666666\n",
      "F1 Score:  0.37500000000000006\n",
      "-------------------------------\n",
      "Kold 4 :\n",
      "Precision:  0.2857142857142857\n",
      "Recall:  0.6666666666666666\n",
      "F1 Score:  0.4\n",
      "-------------------------------\n",
      "Kold 5 :\n",
      "Precision:  0.18421052631578946\n",
      "Recall:  0.5384615384615384\n",
      "F1 Score:  0.2745098039215686\n",
      "-------------------------------\n",
      "Kold 6 :\n",
      "Precision:  0.4146341463414634\n",
      "Recall:  0.4358974358974359\n",
      "F1 Score:  0.42500000000000004\n",
      "-------------------------------\n",
      "Kold 7 :\n",
      "Precision:  0.35714285714285715\n",
      "Recall:  0.8333333333333334\n",
      "F1 Score:  0.5\n",
      "-------------------------------\n",
      "Kold 8 :\n",
      "Precision:  0.34285714285714286\n",
      "Recall:  0.34285714285714286\n",
      "F1 Score:  0.34285714285714286\n",
      "-------------------------------\n",
      "Kold 9 :\n",
      "Precision:  0.35714285714285715\n",
      "Recall:  0.7894736842105263\n",
      "F1 Score:  0.4918032786885246\n",
      "-------------------------------\n",
      "Kold 10 :\n",
      "Precision:  0.23529411764705882\n",
      "Recall:  0.5333333333333333\n",
      "F1 Score:  0.326530612244898\n",
      "-------------------------------\n",
      "Precision:  0.29250449855583327\n",
      "Recall:  0.5994189801426644\n",
      "F1 Score:  0.39315648124282154\n",
      "Training Completed.\n"
     ]
    }
   ],
   "source": [
    "label_dict = {'Other': 0, 'Message-Topic(e2,e1)': 1, 'Cause-Effect(e1,e2)': 2, 'Component-Whole(e2,e1)': 3, 'Entity-Origin(e2,e1)': 4, 'Member-Collection(e2,e1)': 5, 'Message-Topic(e1,e2)': 6, 'Instrument-Agency(e1,e2)': 7, 'Product-Producer(e1,e2)': 8, 'Instrument-Agency(e2,e1)': 9, 'Entity-Destination(e1,e2)': 10, 'Content-Container(e2,e1)': 11, 'Entity-Origin(e1,e2)': 12, 'Member-Collection(e1,e2)': 13, 'Entity-Destination(e2,e1)': 14, 'Component-Whole(e1,e2)': 15, 'Product-Producer(e2,e1)': 16, 'Cause-Effect(e2,e1)': 17, 'Content-Container(e1,e2)': 18}\n",
    "output_file = \"data/output/SemEval.output\"\n",
    "RE.train(coverted_txt_path, label_dict, output_file)"
   ]
  },
  {
   "cell_type": "code",
   "execution_count": null,
   "metadata": {},
   "outputs": [],
   "source": []
  }
 ],
 "metadata": {
  "kernelspec": {
   "display_name": "Python 3",
   "language": "python",
   "name": "python3"
  },
  "language_info": {
   "codemirror_mode": {
    "name": "ipython",
    "version": 3
   },
   "file_extension": ".py",
   "mimetype": "text/x-python",
   "name": "python",
   "nbconvert_exporter": "python",
   "pygments_lexer": "ipython3",
   "version": "3.7.3"
  }
 },
 "nbformat": 4,
 "nbformat_minor": 2
}
