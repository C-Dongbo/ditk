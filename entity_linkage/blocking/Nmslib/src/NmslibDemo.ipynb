{
 "cells": [
  {
   "cell_type": "code",
   "execution_count": 1,
   "metadata": {},
   "outputs": [],
   "source": [
    "from NMSLIB import NMSLIB\n",
    "import pandas as pd\n",
    "import numpy as np\n",
    "import csv"
   ]
  },
  {
   "cell_type": "code",
   "execution_count": null,
   "metadata": {},
   "outputs": [],
   "source": []
  },
  {
   "cell_type": "code",
   "execution_count": 2,
   "metadata": {},
   "outputs": [
    {
     "name": "stdout",
     "output_type": "stream",
     "text": [
      "Found glove-25-angular.hdf5\n"
     ]
    },
    {
     "data": {
      "text/plain": [
       "(0.8083, 0.8083, 0.01)"
      ]
     },
     "execution_count": 2,
     "metadata": {},
     "output_type": "execute_result"
    }
   ],
   "source": [
    "### Load from repository, this one returns training, testing, and neighbors dataframes\n",
    "'''\n",
    "See http://vectors.erikbern.com for full list of dataset options \n",
    "'''\n",
    "\n",
    "nmslibIndex = NMSLIB()\n",
    "\n",
    "[trainDF,testDF,labelsDF] = nmslibIndex.read_dataset('glove-25-angular')\n",
    "\n",
    "# Train Model\n",
    "index = nmslibIndex.train(trainDF)\n",
    "\n",
    "# Evaluate Model\n",
    "nmslibIndex.evaluate(labelsDF,testDF)\n",
    "\n",
    "# Save Model\n",
    "nmslibIndex.save_model('nmslibTest.model')\n",
    "\n",
    "# Load Model\n",
    "nmslibIndex.load_model('nmslibTest.model')\n",
    "\n",
    "# Evaluate Model To Show Load Worked\n",
    "nmslibIndex.evaluate(labelsDF,testDF)"
   ]
  },
  {
   "cell_type": "code",
   "execution_count": null,
   "metadata": {},
   "outputs": [],
   "source": []
  },
  {
   "cell_type": "code",
   "execution_count": 3,
   "metadata": {},
   "outputs": [
    {
     "data": {
      "text/plain": [
       "(1.0, 1.0, 0.1)"
      ]
     },
     "execution_count": 3,
     "metadata": {},
     "output_type": "execute_result"
    }
   ],
   "source": [
    "### Simple example with toy dataset\n",
    "\n",
    "nmslibIndex = NMSLIB()\n",
    "\n",
    "# Create dataset\n",
    "trainDF = pd.DataFrame([x for x in np.random.rand(100,30)])\n",
    "trainDF.to_csv('../test/blocking_nmslib_test_input.txt',index=False)\n",
    "\n",
    "nmslibIndex.train(trainDF)\n",
    "\n",
    "groundTruth = nmslibIndex.predict(trainDF)  # For simplicity\n",
    "groundTruthDF = pd.DataFrame([x for x in groundTruth])\n",
    "groundTruthDF.to_csv('../test/blocking_nmslib_test_output.txt',index=False)\n",
    "\n",
    "nmslibIndex.evaluate(groundTruthDF,trainDF)"
   ]
  },
  {
   "cell_type": "code",
   "execution_count": null,
   "metadata": {},
   "outputs": [],
   "source": []
  },
  {
   "cell_type": "code",
   "execution_count": 4,
   "metadata": {},
   "outputs": [
    {
     "data": {
      "text/plain": [
       "(1.0, 1.0, 0.1)"
      ]
     },
     "execution_count": 4,
     "metadata": {},
     "output_type": "execute_result"
    }
   ],
   "source": [
    "### Simple example reading from csv\n",
    "'''\n",
    "You can specify which dataset (train/test/labels) you are reading when you use read_dataset \n",
    "'''\n",
    "nmslibIndex = NMSLIB()\n",
    "\n",
    "# Load csv\n",
    "trainDF = nmslibIndex.read_dataset('../test/blocking_nmslib_test_input.txt',isTrain=True)\n",
    "testDF = nmslibIndex.read_dataset('../test/blocking_nmslib_test_input.txt',isTest=True)\n",
    "labelsDF = nmslibIndex.read_dataset('../test/blocking_nmslib_test_output.txt',isLabels=True)\n",
    "\n",
    "nmslibIndex.train()\n",
    "\n",
    "nmslibIndex.evaluate()"
   ]
  },
  {
   "cell_type": "code",
   "execution_count": null,
   "metadata": {},
   "outputs": [],
   "source": []
  },
  {
   "cell_type": "code",
   "execution_count": 5,
   "metadata": {},
   "outputs": [
    {
     "data": {
      "text/plain": [
       "(1.0, 1.0, 0.1)"
      ]
     },
     "execution_count": 5,
     "metadata": {},
     "output_type": "execute_result"
    }
   ],
   "source": [
    "### Thorough example reading from csv\n",
    "'''\n",
    "You can pass just about all parameters needed in a train/predict/evaluate pipeline during initialization. \n",
    "'''\n",
    "nmslibIndex = NMSLIB()\n",
    "# Load csv\n",
    "trainDF = nmslibIndex.read_dataset('../test/blocking_nmslib_test_input.txt')\n",
    "labelsDF = nmslibIndex.read_dataset('../test/blocking_nmslib_test_output.txt')\n",
    "\n",
    "nmslibIndex = NMSLIB(train_data=trainDF,test_data=trainDF,labels=labelsDF,distanceMetric='angulardis',M=20,num_results=10,efc=50,indexThreadQty=8)\n",
    "nmslibIndex.train()\n",
    "\n",
    "nmslibIndex.evaluate()"
   ]
  },
  {
   "cell_type": "code",
   "execution_count": null,
   "metadata": {},
   "outputs": [],
   "source": []
  }
 ],
 "metadata": {
  "kernelspec": {
   "display_name": "Python 3",
   "language": "python",
   "name": "python3"
  },
  "language_info": {
   "codemirror_mode": {
    "name": "ipython",
    "version": 3
   },
   "file_extension": ".py",
   "mimetype": "text/x-python",
   "name": "python",
   "nbconvert_exporter": "python",
   "pygments_lexer": "ipython3",
   "version": "3.7.1"
  }
 },
 "nbformat": 4,
 "nbformat_minor": 2
}
