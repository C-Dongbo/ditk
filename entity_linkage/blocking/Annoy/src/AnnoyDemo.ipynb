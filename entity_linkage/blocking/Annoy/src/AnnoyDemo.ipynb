{
 "cells": [
  {
   "cell_type": "code",
   "execution_count": 1,
   "metadata": {},
   "outputs": [],
   "source": [
    "from Annoy import Annoy\n",
    "import pandas as pd\n",
    "import numpy as np\n",
    "import csv"
   ]
  },
  {
   "cell_type": "code",
   "execution_count": null,
   "metadata": {},
   "outputs": [],
   "source": []
  },
  {
   "cell_type": "code",
   "execution_count": 2,
   "metadata": {},
   "outputs": [
    {
     "name": "stdout",
     "output_type": "stream",
     "text": [
      "Found glove-25-angular.hdf5\n"
     ]
    },
    {
     "data": {
      "text/plain": [
       "(0.481731, 0.481731, 0.01)"
      ]
     },
     "execution_count": 2,
     "metadata": {},
     "output_type": "execute_result"
    }
   ],
   "source": [
    "### Load from repository, this one returns training, testing, and neighbors dataframes\n",
    "'''\n",
    "See http://vectors.erikbern.com for full list of dataset options \n",
    "'''\n",
    "\n",
    "annoyIndex = Annoy()\n",
    "\n",
    "[trainDF,testDF,labelsDF] = annoyIndex.read_dataset('glove-25-angular')\n",
    "\n",
    "# Train Model\n",
    "index = annoyIndex.train(trainDF)\n",
    "\n",
    "# Evaluate Model\n",
    "annoyIndex.evaluate(labelsDF,testDF)\n",
    "\n",
    "# Save Model\n",
    "annoyIndex.save_model('annoyTest.model')\n",
    "\n",
    "# Load Model\n",
    "annoyIndex.load_model('annoyTest.model')\n",
    "\n",
    "# Evaluate Model To Show Load Worked\n",
    "annoyIndex.evaluate(labelsDF,testDF)"
   ]
  },
  {
   "cell_type": "code",
   "execution_count": null,
   "metadata": {},
   "outputs": [],
   "source": []
  },
  {
   "cell_type": "code",
   "execution_count": 3,
   "metadata": {},
   "outputs": [
    {
     "data": {
      "text/plain": [
       "(1.0, 1.0, 0.1)"
      ]
     },
     "execution_count": 3,
     "metadata": {},
     "output_type": "execute_result"
    }
   ],
   "source": [
    "### Simple example with toy dataset\n",
    "\n",
    "annoyIndex = Annoy()\n",
    "\n",
    "# Create dataset\n",
    "trainDF = pd.DataFrame([x for x in np.random.rand(100,30)])\n",
    "trainDF.to_csv('../test/blocking_annoy_test_input.txt',index=False)\n",
    "\n",
    "annoyIndex.train(trainDF)\n",
    "\n",
    "groundTruth = annoyIndex.predict(trainDF)  # For simplicity\n",
    "groundTruthDF = pd.DataFrame([x for x in groundTruth])\n",
    "groundTruthDF.to_csv('../test/blocking_annoy_test_output.txt',index=False)\n",
    "\n",
    "\n",
    "annoyIndex.evaluate(groundTruthDF,trainDF)"
   ]
  },
  {
   "cell_type": "code",
   "execution_count": null,
   "metadata": {},
   "outputs": [],
   "source": []
  },
  {
   "cell_type": "code",
   "execution_count": 4,
   "metadata": {},
   "outputs": [
    {
     "data": {
      "text/plain": [
       "(1.0, 1.0, 0.1)"
      ]
     },
     "execution_count": 4,
     "metadata": {},
     "output_type": "execute_result"
    }
   ],
   "source": [
    "### Simple example reading from csv\n",
    "'''\n",
    "You can specify which dataset (train/test/labels) you are reading when you use read_dataset \n",
    "'''\n",
    "annoyIndex = Annoy()\n",
    "\n",
    "# Load csv\n",
    "trainDF = annoyIndex.read_dataset('../test/blocking_annoy_test_input.txt',isTrain=True)\n",
    "testDF = annoyIndex.read_dataset('../test/blocking_annoy_test_input.txt',isTest=True)\n",
    "labelsDF = annoyIndex.read_dataset('../test/blocking_annoy_test_output.txt',isLabels=True)\n",
    "\n",
    "annoyIndex.train()\n",
    "\n",
    "annoyIndex.evaluate()"
   ]
  },
  {
   "cell_type": "code",
   "execution_count": null,
   "metadata": {},
   "outputs": [],
   "source": []
  },
  {
   "cell_type": "code",
   "execution_count": 5,
   "metadata": {},
   "outputs": [
    {
     "data": {
      "text/plain": [
       "(1.0, 1.0, 0.1)"
      ]
     },
     "execution_count": 5,
     "metadata": {},
     "output_type": "execute_result"
    }
   ],
   "source": [
    "### Thorough example reading from csv\n",
    "'''\n",
    "You can pass just about all parameters needed in a train/predict/evaluate pipeline during initialization. \n",
    "'''\n",
    "annoyIndex = Annoy()\n",
    "# Load csv\n",
    "trainDF = annoyIndex.read_dataset('../test/blocking_annoy_test_input.txt')\n",
    "labelsDF = annoyIndex.read_dataset('../test/blocking_annoy_test_output.txt')\n",
    "\n",
    "annoyIndex = Annoy(train_data=trainDF,test_data=trainDF,labels=labelsDF,metric='angular',n_trees=10,num_results=10,search_k=-1,include_distances=False,vectorLength=30)\n",
    "annoyIndex.train()\n",
    "\n",
    "annoyIndex.evaluate()"
   ]
  },
  {
   "cell_type": "code",
   "execution_count": null,
   "metadata": {},
   "outputs": [],
   "source": []
  }
 ],
 "metadata": {
  "kernelspec": {
   "display_name": "Python 3",
   "language": "python",
   "name": "python3"
  },
  "language_info": {
   "codemirror_mode": {
    "name": "ipython",
    "version": 3
   },
   "file_extension": ".py",
   "mimetype": "text/x-python",
   "name": "python",
   "nbconvert_exporter": "python",
   "pygments_lexer": "ipython3",
   "version": "3.7.1"
  }
 },
 "nbformat": 4,
 "nbformat_minor": 2
}
