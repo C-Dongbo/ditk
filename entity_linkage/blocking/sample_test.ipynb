{
 "cells": [
  {
   "cell_type": "code",
   "execution_count": null,
   "metadata": {},
   "outputs": [],
   "source": [
    "import unittest\n",
    "import pandas as pd\n",
    "from entity_linkage.blocking import Annoy\n",
    "\n",
    "\n",
    "class TestBlockingMethods(unittest.TestCase):\n",
    "    \n",
    "    def setUp(self,input_files=['sample_input.csv.txt','sample_labels.csv.txt'],numResults=10,numTrees=10):\n",
    "        self.blocking_method = Annoy(numResults=numResults,numTrees=numTrees) # initialize your Blocking method\n",
    "        self.input_files = input_files\n",
    "        \n",
    "        self.blocking_method.test_read_dataset(input_files[0],isTrain=True)\n",
    "        self.blocking_method.test_read_dataset(input_files[0],isTest=True)\n",
    "        self.blocking_method.test_read_dataset(input_files[1],isLabels=True)\n",
    "\n",
    "    def test_read_dataset(self):\n",
    "        data_frames = self.blocking_method.read_dataset(self.input_files[0])\n",
    "        self.assertIsInstance(data_frames, pd.DataFrame)\n",
    "\n",
    "    def test_predict(self):\n",
    "        self.blocking_method.train()\n",
    "        predictions = self.blocking_method.predict()\n",
    "        # evaluate whether predictions follow the Lists of Lists of tuples format, e.g.:\n",
    "        self.assertIsInstance(predictions,list)\n",
    "\n",
    "    def test_evaluate(self):\n",
    "        precision, recall, reduction_ratio = self.blocking_method.evaluate()\n",
    "        self.assertIsInstance(precision, float)\n",
    "        self.assertIsInstance(recall, float)\n",
    "        self.assertIsInstance(reduction_ratio, float)\n",
    "\n",
    "if __name__ == '__main__':\n",
    "    unittest.main()"
   ]
  }
 ],
 "metadata": {
  "kernelspec": {
   "display_name": "Python 3",
   "language": "python",
   "name": "python3"
  },
  "language_info": {
   "codemirror_mode": {
    "name": "ipython",
    "version": 3
   },
   "file_extension": ".py",
   "mimetype": "text/x-python",
   "name": "python",
   "nbconvert_exporter": "python",
   "pygments_lexer": "ipython3",
   "version": "3.7.1"
  }
 },
 "nbformat": 4,
 "nbformat_minor": 2
}
