{
 "cells": [
  {
   "cell_type": "code",
   "execution_count": 31,
   "metadata": {},
   "outputs": [],
   "source": [
    "import os\n",
    "import sys\n",
    "\n",
    "if os.name == 'nt':\n",
    "    module_path = os.path.abspath(os.path.join('..\\..\\..'))\n",
    "else:\n",
    "    module_path = os.path.abspath(os.path.join('../../..'))\n",
    "\n",
    "if module_path not in sys.path:\n",
    "    sys.path.append(module_path)"
   ]
  },
  {
   "cell_type": "code",
   "execution_count": 32,
   "metadata": {},
   "outputs": [],
   "source": [
    "from LNEX import LNExBase"
   ]
  },
  {
   "cell_type": "code",
   "execution_count": 33,
   "metadata": {},
   "outputs": [],
   "source": [
    "ditk_path = \"\"\n",
    "for path in sys.path:\n",
    "    if \"ditk\" in path:\n",
    "        ditk_path = path\n",
    "#print(ditk_path)\n",
    "file_name = ditk_path+\"/entity_linkage/normalization/lnex/test/sample_input.txt\""
   ]
  },
  {
   "cell_type": "code",
   "execution_count": 34,
   "metadata": {},
   "outputs": [],
   "source": [
    "#instantiate the implemented class\n",
    "lnex_obj = LNExBase()"
   ]
  },
  {
   "cell_type": "code",
   "execution_count": 35,
   "metadata": {},
   "outputs": [],
   "source": [
    "# read data\n",
    "test_set,eval_set = lnex_obj.read_dataset(file_name)"
   ]
  },
  {
   "cell_type": "code",
   "execution_count": 36,
   "metadata": {},
   "outputs": [
    {
     "data": {
      "text/plain": [
       "['#ChennaiFloods A pregnant lady rescued from Mudichur Near tambaram around 1130 this morning by Indian Navy https://t.co/I5ZYe4',\n",
       " \"#ChennaiFloods #'Saidapet', food available for 700-people;no.4,pilliyarkoil street,Jones road subway.call Dinesh Thomas @ 04\",\n",
       " '#ChennaiFloods  All #trains to & from Chennai Central & Chennai Egmore #cancelled till 12 hrs on Dec5, says SouthernRailway',\n",
       " 'Water Stagnation in New Avadi road and Water tank road, #Kilpauk . Power available. #ChennaiFloods #ChennaiRainsHelp @',\n",
       " 'Unable to reach a frnds family residing at Old no. 9/New no. 34. Strt no. 4, Postal colony, west mambalam, Chennai. Pl',\n",
       " 'I am at new avadi rd, chennai, mambalam #chennaiflood #newavadiroad',\n",
       " 'balalok school is closed',\n",
       " 'new avadi',\n",
       " 'I am in jayarampuram pathur road today']"
      ]
     },
     "execution_count": 36,
     "metadata": {},
     "output_type": "execute_result"
    }
   ],
   "source": [
    "test_set"
   ]
  },
  {
   "cell_type": "code",
   "execution_count": 37,
   "metadata": {},
   "outputs": [
    {
     "name": "stdout",
     "output_type": "stream",
     "text": [
      "Initializing LNEx ...\n",
      "Done Initialization ...\n"
     ]
    }
   ],
   "source": [
    " # initialiaze gazetteer\n",
    "dummy = \"\"\n",
    "geo_info = lnex_obj.train(dummy)"
   ]
  },
  {
   "cell_type": "code",
   "execution_count": 38,
   "metadata": {},
   "outputs": [
    {
     "name": "stdout",
     "output_type": "stream",
     "text": [
      "tambaram (58, 66) tambaram ['1904', '5520']\n",
      "Mudichur (44, 52) mudichur ['1133']\n",
      "Chennai (1, 8) chennai ['15543', '3197']\n",
      "##################################################\n",
      "Jones road (83, 93) jones road ['10025', '16691']\n",
      "Chennai (1, 8) chennai ['15543', '3197']\n",
      "##################################################\n",
      "Chennai Egmore (56, 70) chennai egmore ['8552', '8165']\n",
      "Chennai Central (38, 53) chennai central ['8689']\n",
      "Chennai (1, 8) chennai ['15543', '3197']\n",
      "##################################################\n",
      "Chennai (100, 107) chennai ['15543', '3197']\n",
      "Water tank road (39, 54) water tank rd ['12005']\n",
      "Chennai (85, 92) chennai ['15543', '3197']\n",
      "New Avadi road (20, 34) new avadi road ['17682', '13778', '17377', '8075', '4396', '1030', '5104', '12416', '3537']\n",
      "##################################################\n",
      "Postal colony (77, 90) postal colony ['556', '3885', '3084']\n",
      "west mambalam (92, 105) west mambalam ['10818']\n",
      "Chennai (107, 114) chennai ['15543', '3197']\n",
      "##################################################\n",
      "chennai (22, 29) chennai ['15543', '3197']\n",
      "mambalam (31, 39) mambalam ['10425']\n",
      "new avadi rd (8, 20) new avadi road ['17682', '13778', '17377', '8075', '4396', '1030', '5104', '12416', '3537']\n",
      "chennai (41, 48) chennai ['15543', '3197']\n",
      "##################################################\n",
      "##################################################\n",
      "avadi (4, 9) avadi ['4445', '11793']\n",
      "##################################################\n",
      "pathur (21, 27) pathur ['5153']\n",
      "##################################################\n"
     ]
    }
   ],
   "source": [
    "# predict\n",
    "results = lnex_obj.predict(geo_info, test_set)"
   ]
  },
  {
   "cell_type": "code",
   "execution_count": null,
   "metadata": {},
   "outputs": [],
   "source": []
  },
  {
   "cell_type": "code",
   "execution_count": 39,
   "metadata": {
    "scrolled": true
   },
   "outputs": [
    {
     "name": "stdout",
     "output_type": "stream",
     "text": [
      "chennai\n",
      "Initializing LNEx ...\n",
      "Done Initialization ...\n",
      "{'precision': 0.9276595744680851, 'recall': 0.8104089219330854, 'f-score': 0.865079365079365}\n"
     ]
    }
   ],
   "source": [
    "#Eval\n",
    "results = lnex_obj.evaluate(geo_info, eval_set)\n",
    "print(results)"
   ]
  },
  {
   "cell_type": "code",
   "execution_count": null,
   "metadata": {},
   "outputs": [],
   "source": []
  }
 ],
 "metadata": {
  "kernelspec": {
   "display_name": "Python 3",
   "language": "python",
   "name": "python3"
  },
  "language_info": {
   "codemirror_mode": {
    "name": "ipython",
    "version": 3
   },
   "file_extension": ".py",
   "mimetype": "text/x-python",
   "name": "python",
   "nbconvert_exporter": "python",
   "pygments_lexer": "ipython3",
   "version": "3.7.1"
  }
 },
 "nbformat": 4,
 "nbformat_minor": 2
}
