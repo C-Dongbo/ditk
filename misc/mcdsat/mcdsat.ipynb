{
 "cells": [
  {
   "cell_type": "markdown",
   "metadata": {},
   "source": [
    "# MCDSAT - Scalable Query Rewriting using Materialized Views"
   ]
  },
  {
   "cell_type": "markdown",
   "metadata": {},
   "source": [
    "This notebook contains the Python3 implementation for the MCDSAT Algorithm based on the following paper - \n",
    "Compilation of Query-Rewriting Problems into Tractable Fragments of Propositional Logic\n",
    "---\n",
    "Yolife Arvelo, Blai Bonet and Maria Esther Vidal,\n",
    "Proc. 21st National Conf. on Artificial Intelligence (AAAI). Boston, MA. 2006. AAAI Press. Pages 225-230.\n",
    "Objective\n",
    "---\n",
    "Given a query Q. retrieve all tuples obtainable from the data sources that satisfy Q\n",
    "It is assumed that both Q and V are conjunctive queries defined without any arithmetic predicates\n",
    "\n",
    "Queries and Views can be defined over different structures like - Chain, Chains with half/all distinguished variables, stars with half/all distinguished variables\n",
    "\n",
    "Please follow the instructions provided in the README file before proceeding with this notebook"
   ]
  },
  {
   "cell_type": "code",
   "execution_count": 1,
   "metadata": {},
   "outputs": [],
   "source": [
    "from mcdsat import mcdsat"
   ]
  },
  {
   "cell_type": "markdown",
   "metadata": {},
   "source": [
    "Create mcdsat object\n",
    "---"
   ]
  },
  {
   "cell_type": "code",
   "execution_count": 2,
   "metadata": {},
   "outputs": [],
   "source": [
    "rewriting = mcdsat()"
   ]
  },
  {
   "cell_type": "markdown",
   "metadata": {},
   "source": [
    "Call read_input on the mcdsat object and provide the full paths for the views file and the query file\n",
    "---\n",
    "Specify the path to c2d compiler and dnnf-models to reflect their correct locations"
   ]
  },
  {
   "cell_type": "code",
   "execution_count": 3,
   "metadata": {},
   "outputs": [],
   "source": [
    "rewriting.read_input(viewsFile = \"examples/views_0.txt\", queryFile = \"examples/query_0.txt\", c2d_path=\"c2d/c2d_linux\", models=\"dnnf-models/models\")"
   ]
  },
  {
   "cell_type": "markdown",
   "metadata": {},
   "source": [
    "Generate Rewritings\n",
    "---"
   ]
  },
  {
   "cell_type": "code",
   "execution_count": 4,
   "metadata": {},
   "outputs": [
    {
     "name": "stdout",
     "output_type": "stream",
     "text": [
      "Translating to CNF SatRWviews_0.cnf ...\n",
      "CNF file SatRWviews_0.cnf generated\n",
      "Compiling the CNF to DNNF using c2d compiler ...\n",
      "DNNF model generated and stored successfully ...\n",
      "Generating models using d-DNNF ...\n",
      "Enumerated all the models for the given query and views ...\n",
      "q(X1, X2, X3, X4, X5, X6, X7, X8, X9, X10) :- v8(_0, _1, _2, X1, X2, X3, X4, _3, _4, _5), v9(X4, X5, X6, X7, _12, _13, _14, _15, _16, _17), v0(_25, _26, _27, _28, _29, _30, X7, X8, X9, X10)\n",
      "q(X1, X2, X3, X4, X5, X6, X7, X8, X9, X10) :- v8(_0, _1, _2, X1, X2, X3, X4, _3, _4, _5), v9(X4, X5, X6, X7, _12, _13, _14, _15, _16, _17), v8(_25, _26, _27, _28, _29, _30, X7, X8, X9, X10)\n",
      "q(X1, X2, X3, X4, X5, X6, X7, X8, X9, X10) :- v8(_0, _1, _2, X1, X2, X3, X4, _3, _4, _5), v9(X4, X5, X6, X7, _12, _13, _14, _15, _16, _17), v3(_25, _26, _27, _28, _29, _30, X7, X8, X9, X10)\n",
      "q(X1, X2, X3, X4, X5, X6, X7, X8, X9, X10) :- v8(_0, _1, _2, X1, X2, X3, X4, _3, _4, _5), v9(X4, X5, X6, X7, _12, _13, _14, _15, _16, _17), v9(_25, _26, _27, X7, X8, X9, X10, _28, _29, _30)\n",
      "q(X1, X2, X3, X4, X5, X6, X7, X8, X9, X10) :- v8(_0, _1, _2, X1, X2, X3, X4, _3, _4, _5), v9(X4, X5, X6, X7, _12, _13, _14, _15, _16, _17), v6(X7, X8, X9, X10, _25, _26, _27, _28, _29, _30)\n",
      "q(X1, X2, X3, X4, X5, X6, X7, X8, X9, X10) :- v4(_0, _1, _2, X1, X2, X3, X4, _3, _4, _5), v9(X4, X5, X6, X7, _12, _13, _14, _15, _16, _17), v0(_25, _26, _27, _28, _29, _30, X7, X8, X9, X10)\n",
      "q(X1, X2, X3, X4, X5, X6, X7, X8, X9, X10) :- v1(_0, _1, _2, _3, _4, _5, X1, X2, X3, X4), v9(X4, X5, X6, X7, _13, _14, _15, _16, _17, _18), v0(_26, _27, _28, _29, _30, _31, X7, X8, X9, X10)\n",
      "q(X1, X2, X3, X4, X5, X6, X7, X8, X9, X10) :- v1(X1, X2, X3, X4, _0, _1, _2, _3, _4, _5), v9(X4, X5, X6, X7, _13, _14, _15, _16, _17, _18), v0(_26, _27, _28, _29, _30, _31, X7, X8, X9, X10)\n",
      "q(X1, X2, X3, X4, X5, X6, X7, X8, X9, X10) :- v7(_0, _1, _2, _3, _4, _5, X1, X2, X3, X4), v9(X4, X5, X6, X7, _13, _14, _15, _16, _17, _18), v0(_26, _27, _28, _29, _30, _31, X7, X8, X9, X10)\n",
      "q(X1, X2, X3, X4, X5, X6, X7, X8, X9, X10) :- v4(_0, _1, _2, X1, X2, X3, X4, _3, _4, _5), v9(X4, X5, X6, X7, _12, _13, _14, _15, _16, _17), v8(_25, _26, _27, _28, _29, _30, X7, X8, X9, X10)\n",
      "q(X1, X2, X3, X4, X5, X6, X7, X8, X9, X10) :- v1(_0, _1, _2, _3, _4, _5, X1, X2, X3, X4), v9(X4, X5, X6, X7, _13, _14, _15, _16, _17, _18), v8(_26, _27, _28, _29, _30, _31, X7, X8, X9, X10)\n",
      "q(X1, X2, X3, X4, X5, X6, X7, X8, X9, X10) :- v1(X1, X2, X3, X4, _0, _1, _2, _3, _4, _5), v9(X4, X5, X6, X7, _13, _14, _15, _16, _17, _18), v8(_26, _27, _28, _29, _30, _31, X7, X8, X9, X10)\n",
      "q(X1, X2, X3, X4, X5, X6, X7, X8, X9, X10) :- v7(_0, _1, _2, _3, _4, _5, X1, X2, X3, X4), v9(X4, X5, X6, X7, _13, _14, _15, _16, _17, _18), v8(_26, _27, _28, _29, _30, _31, X7, X8, X9, X10)\n",
      "q(X1, X2, X3, X4, X5, X6, X7, X8, X9, X10) :- v4(_0, _1, _2, X1, X2, X3, X4, _3, _4, _5), v9(X4, X5, X6, X7, _12, _13, _14, _15, _16, _17), v3(_25, _26, _27, _28, _29, _30, X7, X8, X9, X10)\n",
      "q(X1, X2, X3, X4, X5, X6, X7, X8, X9, X10) :- v1(_0, _1, _2, _3, _4, _5, X1, X2, X3, X4), v9(X4, X5, X6, X7, _13, _14, _15, _16, _17, _18), v3(_26, _27, _28, _29, _30, _31, X7, X8, X9, X10)\n",
      "q(X1, X2, X3, X4, X5, X6, X7, X8, X9, X10) :- v1(X1, X2, X3, X4, _0, _1, _2, _3, _4, _5), v9(X4, X5, X6, X7, _13, _14, _15, _16, _17, _18), v3(_26, _27, _28, _29, _30, _31, X7, X8, X9, X10)\n",
      "q(X1, X2, X3, X4, X5, X6, X7, X8, X9, X10) :- v7(_0, _1, _2, _3, _4, _5, X1, X2, X3, X4), v9(X4, X5, X6, X7, _13, _14, _15, _16, _17, _18), v3(_26, _27, _28, _29, _30, _31, X7, X8, X9, X10)\n",
      "q(X1, X2, X3, X4, X5, X6, X7, X8, X9, X10) :- v4(_0, _1, _2, X1, X2, X3, X4, _3, _4, _5), v9(X4, X5, X6, X7, _12, _13, _14, _15, _16, _17), v9(_25, _26, _27, X7, X8, X9, X10, _28, _29, _30)\n",
      "q(X1, X2, X3, X4, X5, X6, X7, X8, X9, X10) :- v1(_0, _1, _2, _3, _4, _5, X1, X2, X3, X4), v9(X4, X5, X6, X7, _13, _14, _15, _16, _17, _18), v9(_26, _27, _28, X7, X8, X9, X10, _29, _30, _31)\n",
      "q(X1, X2, X3, X4, X5, X6, X7, X8, X9, X10) :- v1(X1, X2, X3, X4, _0, _1, _2, _3, _4, _5), v9(X4, X5, X6, X7, _13, _14, _15, _16, _17, _18), v9(_26, _27, _28, X7, X8, X9, X10, _29, _30, _31)\n",
      "q(X1, X2, X3, X4, X5, X6, X7, X8, X9, X10) :- v7(_0, _1, _2, _3, _4, _5, X1, X2, X3, X4), v9(X4, X5, X6, X7, _13, _14, _15, _16, _17, _18), v9(_26, _27, _28, X7, X8, X9, X10, _29, _30, _31)\n",
      "q(X1, X2, X3, X4, X5, X6, X7, X8, X9, X10) :- v4(_0, _1, _2, X1, X2, X3, X4, _3, _4, _5), v9(X4, X5, X6, X7, _12, _13, _14, _15, _16, _17), v6(X7, X8, X9, X10, _25, _26, _27, _28, _29, _30)\n",
      "q(X1, X2, X3, X4, X5, X6, X7, X8, X9, X10) :- v1(_0, _1, _2, _3, _4, _5, X1, X2, X3, X4), v9(X4, X5, X6, X7, _13, _14, _15, _16, _17, _18), v6(X7, X8, X9, X10, _26, _27, _28, _29, _30, _31)\n",
      "q(X1, X2, X3, X4, X5, X6, X7, X8, X9, X10) :- v1(X1, X2, X3, X4, _0, _1, _2, _3, _4, _5), v9(X4, X5, X6, X7, _13, _14, _15, _16, _17, _18), v6(X7, X8, X9, X10, _26, _27, _28, _29, _30, _31)\n",
      "q(X1, X2, X3, X4, X5, X6, X7, X8, X9, X10) :- v7(_0, _1, _2, _3, _4, _5, X1, X2, X3, X4), v9(X4, X5, X6, X7, _13, _14, _15, _16, _17, _18), v6(X7, X8, X9, X10, _26, _27, _28, _29, _30, _31)\n",
      "Generated all rewritings ... \n",
      "Cleaning Up... \n",
      "Deleting all intermediate files...\n",
      "Done ...\n"
     ]
    }
   ],
   "source": [
    "rewriting.generate_MCDs()"
   ]
  }
 ],
 "metadata": {
  "kernelspec": {
   "display_name": "Python 3",
   "language": "python",
   "name": "python3"
  },
  "language_info": {
   "codemirror_mode": {
    "name": "ipython",
    "version": 3
   },
   "file_extension": ".py",
   "mimetype": "text/x-python",
   "name": "python",
   "nbconvert_exporter": "python",
   "pygments_lexer": "ipython3",
   "version": "3.6.7"
  }
 },
 "nbformat": 4,
 "nbformat_minor": 2
}
