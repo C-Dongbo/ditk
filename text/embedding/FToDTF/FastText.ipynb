{
 "cells": [
  {
   "cell_type": "markdown",
   "metadata": {},
   "source": [
    "# FToDTF - FastText on Distributed TensorFlow"
   ]
  },
  {
   "cell_type": "code",
   "execution_count": 9,
   "metadata": {
    "collapsed": false
   },
   "outputs": [],
   "source": [
    "from fasttext import FastText"
   ]
  },
  {
   "cell_type": "code",
   "execution_count": 10,
   "metadata": {
    "collapsed": true
   },
   "outputs": [],
   "source": [
    "import tensorflow as tf\n",
    "import os"
   ]
  },
  {
   "cell_type": "markdown",
   "metadata": {},
   "source": [
    "Using SICK dataset for demonstration"
   ]
  },
  {
   "cell_type": "code",
   "execution_count": 11,
   "metadata": {
    "collapsed": false
   },
   "outputs": [],
   "source": [
    "tf.logging.set_verbosity(tf.logging.ERROR)\n",
    "dirpath = os.getcwd()\n",
    "datapath = dirpath + \"/data/sick.xls\" # Path to dataset\n",
    "modelpath = dirpath + \"/models/log_sick/log/\" # Path to pre-trained model"
   ]
  },
  {
   "cell_type": "markdown",
   "metadata": {},
   "source": [
    "Initialising an object of Class FastText"
   ]
  },
  {
   "cell_type": "code",
   "execution_count": 12,
   "metadata": {
    "collapsed": true
   },
   "outputs": [],
   "source": [
    "fasttext_obj = FastText(input_corpus_path=datapath, modelpath = modelpath)"
   ]
  },
  {
   "cell_type": "markdown",
   "metadata": {},
   "source": [
    "Read Dataset method which returns the paths to the processed training and testing files"
   ]
  },
  {
   "cell_type": "code",
   "execution_count": 13,
   "metadata": {
    "collapsed": false
   },
   "outputs": [
    {
     "name": "stdout",
     "output_type": "stream",
     "text": [
      "The dataset has been split into train and test based on labels in input dataset\n",
      "85818\n",
      "The input has been pre-processed.\n",
      "The input has been written to batches - ready to train.\n"
     ]
    }
   ],
   "source": [
    "train_data_path,test_data_path = fasttext_obj.read_Dataset(datapath,'sick')"
   ]
  },
  {
   "cell_type": "markdown",
   "metadata": {},
   "source": [
    "Train method, loading a pre-trained model here to save time. "
   ]
  },
  {
   "cell_type": "code",
   "execution_count": 14,
   "metadata": {
    "collapsed": false
   },
   "outputs": [
    {
     "name": "stdout",
     "output_type": "stream",
     "text": [
      "Training starting..\n",
      "Loading a pre-trained model from /home/khadutz95/FToDTF/models/log_sick/log/\n",
      "85818\n"
     ]
    }
   ],
   "source": [
    "model, dict_map = fasttext_obj.train(train_data_path)"
   ]
  },
  {
   "cell_type": "markdown",
   "metadata": {},
   "source": [
    "Calling predict embedding for words as well as sentences"
   ]
  },
  {
   "cell_type": "code",
   "execution_count": 15,
   "metadata": {
    "collapsed": false
   },
   "outputs": [
    {
     "name": "stdout",
     "output_type": "stream",
     "text": [
      "Predicted embedding is [  9.53503419e-04  -1.66640175e-03   5.08175232e-03  -8.79818574e-04\n",
      "  -2.76247971e-03  -3.41044576e-03  -1.84082473e-03   3.02710384e-03\n",
      "  -4.98916674e-03   2.95923464e-03  -1.99349364e-03  -5.37431613e-03\n",
      "   4.69870958e-03   4.09289077e-03   1.78318517e-03  -7.15276226e-04\n",
      "  -3.60754319e-03   4.91821580e-03  -3.34097072e-04  -6.76173251e-04\n",
      "  -4.77561029e-03   5.54034486e-04  -1.19791133e-03  -3.01777385e-04\n",
      "  -2.07121298e-03  -4.06620512e-03  -1.08396821e-03  -5.02670091e-03\n",
      "  -4.76232870e-03  -2.46936642e-03   5.32076973e-03   2.35938001e-04\n",
      "   9.84408427e-04   3.70168686e-03   5.09325415e-04  -2.38307449e-03\n",
      "  -4.14777501e-03   1.08828209e-03  -2.48081726e-03  -4.80687711e-03\n",
      "   3.57740466e-03   1.69749977e-03  -2.29056319e-03  -3.89188994e-04\n",
      "  -2.88278796e-04   3.85188498e-04  -5.25151379e-04   2.68329866e-03\n",
      "   4.07350808e-03  -1.58096058e-03  -3.31692281e-03  -5.01742447e-03\n",
      "   4.31086216e-03  -2.04864983e-03  -1.83256017e-03   5.25092985e-03\n",
      "  -2.22788914e-03  -2.53455248e-04   4.17890400e-03   2.81541422e-03\n",
      "   5.05824015e-03   4.19619307e-03  -1.01501727e-03   7.62650743e-05\n",
      "   5.36162034e-03   4.25327476e-03  -2.29499955e-03   4.90103383e-03\n",
      "  -4.81394213e-03  -2.98508233e-03  -3.38634360e-03  -3.79105099e-04\n",
      "  -3.44315195e-03   1.45748723e-04  -4.80057672e-03   2.41547171e-03\n",
      "  -9.36824363e-04  -3.41167650e-03  -3.91423050e-03  -1.53906597e-03\n",
      "  -1.52432872e-03   3.07429582e-03   5.24964649e-03  -1.50548760e-03\n",
      "   1.25396531e-03   5.31701557e-03   4.84265480e-03  -1.67694781e-03\n",
      "   5.38729504e-03   3.21317744e-03  -4.01930232e-03   7.78771937e-05\n",
      "   3.72859463e-03   2.35560071e-03   1.13657210e-04   4.64063883e-03\n",
      "  -7.65980221e-04  -5.04203048e-03   4.13755886e-04  -1.04853138e-03\n",
      "   6.36191107e-05   3.94432247e-03   4.86847293e-03   2.62191705e-03\n",
      "  -4.69098520e-03   2.38119252e-03  -2.85215350e-03  -4.15339135e-04\n",
      "  -2.31003831e-03   2.78452318e-03  -2.21006363e-03  -1.17066596e-03\n",
      "   2.33983342e-03  -2.04933365e-03   8.90922267e-04   6.04714733e-04\n",
      "  -3.90062621e-03   2.69288104e-03   4.87819687e-03   3.83212976e-03\n",
      "  -4.32098564e-03   1.78407924e-03  -2.14528176e-03  -8.71604774e-04\n",
      "  -5.80363441e-04  -4.16148733e-03   2.78241187e-03  -4.35869582e-03\n",
      "  -4.95329499e-04   5.47243562e-03  -5.16567379e-05  -3.81874340e-03\n",
      "  -4.47970815e-03  -3.85477394e-03   5.20136114e-03  -4.04517027e-03\n",
      "  -3.22117447e-03   1.28689222e-03  -3.28226015e-03   2.32338673e-03\n",
      "   4.95265704e-03   4.74040955e-03   2.69043818e-03  -3.95840500e-04\n",
      "  -5.12308720e-03  -2.07097945e-03   4.88678925e-03  -8.63387249e-04\n",
      "  -2.19901488e-03   1.83729269e-03   5.22470381e-03  -1.26541732e-03\n",
      "   1.31517882e-03   3.24148126e-03   4.50894609e-03  -5.20686433e-03\n",
      "  -2.17550411e-03   2.01944541e-03   1.87347084e-03  -4.79795178e-03\n",
      "  -2.82747834e-03   4.55280114e-03   7.55334739e-04  -5.03895292e-03\n",
      "  -8.29954166e-04  -9.01410822e-04  -1.10082328e-05   2.00871378e-03\n",
      "  -3.55549483e-03   4.80364356e-03   3.83117050e-03   2.03254307e-03\n",
      "  -1.36712659e-03  -1.80592178e-03  -3.19413422e-03  -4.67927661e-04\n",
      "   4.12025675e-03  -1.99397933e-03   2.83614080e-03   5.44263795e-03\n",
      "   9.77043062e-04   1.23336632e-03  -6.74040522e-04  -4.13217349e-03\n",
      "   4.09271568e-03   9.58182849e-04   3.24526522e-03  -5.40142879e-04\n",
      "   2.65364535e-03   1.50222192e-03   6.66541979e-04   2.06196168e-03\n",
      "  -3.32857575e-03   4.68477141e-04   5.13988454e-03  -4.17785253e-03\n",
      "  -5.47819305e-04  -1.04802102e-03   2.27867113e-03  -5.41915558e-03]\n"
     ]
    }
   ],
   "source": [
    "pred_embedding = fasttext_obj.predict_embedding(['man'],model, dict_map)\n",
    "print ('Predicted embedding is',pred_embedding)"
   ]
  },
  {
   "cell_type": "markdown",
   "metadata": {},
   "source": [
    "Predicting similarity for 2 input sentences"
   ]
  },
  {
   "cell_type": "code",
   "execution_count": 16,
   "metadata": {
    "collapsed": false
   },
   "outputs": [
    {
     "name": "stdout",
     "output_type": "stream",
     "text": [
      "0.816604239473\n"
     ]
    }
   ],
   "source": [
    "similarity = fasttext_obj.predict_similarity('A girl is styling her hair','A girl is brushing her hair',model, dict_map)\n",
    "print (similarity[0][0])"
   ]
  },
  {
   "cell_type": "markdown",
   "metadata": {},
   "source": [
    "Evaluate method for Sick dataset"
   ]
  },
  {
   "cell_type": "code",
   "execution_count": 17,
   "metadata": {
    "collapsed": false
   },
   "outputs": [
    {
     "name": "stdout",
     "output_type": "stream",
     "text": [
      "Pearson Score 0.534617116275\n",
      "Mean Square Error 0.0753853091228\n",
      "Spearman Correlation 0.506368980195\n"
     ]
    }
   ],
   "source": [
    "eval_score, mean_score,spearman_score = fasttext_obj.evaluate(model,test_data_path,'sick',dict_map)\n",
    "print ('Pearson Score', eval_score)\n",
    "print ('Mean Square Error', mean_score)\n",
    "print ('Spearman Correlation', spearman_score)"
   ]
  },
  {
   "cell_type": "code",
   "execution_count": null,
   "metadata": {
    "collapsed": true
   },
   "outputs": [],
   "source": []
  }
 ],
 "metadata": {
  "kernelspec": {
   "display_name": "Python 3",
   "language": "python",
   "name": "python3"
  },
  "language_info": {
   "codemirror_mode": {
    "name": "ipython",
    "version": 3
   },
   "file_extension": ".py",
   "mimetype": "text/x-python",
   "name": "python",
   "nbconvert_exporter": "python",
   "pygments_lexer": "ipython3",
   "version": "3.5.4"
  }
 },
 "nbformat": 4,
 "nbformat_minor": 0
}
