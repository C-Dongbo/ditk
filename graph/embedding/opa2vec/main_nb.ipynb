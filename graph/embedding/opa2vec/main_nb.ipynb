{
 "cells": [
  {
   "cell_type": "code",
   "execution_count": 9,
   "metadata": {},
   "outputs": [],
   "source": [
    "import os\n",
    "import sys\n",
    "\n",
    "if os.name == 'nt':\n",
    "    module_path = os.path.abspath(os.path.join('..\\..\\..'))\n",
    "else:\n",
    "    module_path = os.path.abspath(os.path.join('../../..'))\n",
    "\n",
    "if module_path not in sys.path:\n",
    "    sys.path.append(module_path)"
   ]
  },
  {
   "cell_type": "code",
   "execution_count": 10,
   "metadata": {},
   "outputs": [],
   "source": [
    "from opa2vec import OPA2VEC"
   ]
  },
  {
   "cell_type": "code",
   "execution_count": 11,
   "metadata": {},
   "outputs": [
    {
     "name": "stdout",
     "output_type": "stream",
     "text": [
      "/Users/vivekmishra/Desktop/USC/548/ditk\n"
     ]
    }
   ],
   "source": [
    "ditk_path = \"\"\n",
    "for path in sys.path:\n",
    "    if \"ditk\" in path:\n",
    "        ditk_path = path\n",
    "print(ditk_path)\n",
    "file_name = []\n",
    "onto = ditk_path+\"/graph/embedding/opa2vec/test/graph_embedding_input1.owl\"\n",
    "association = ditk_path+\"/graph/embedding/opa2vec/test/graph_embedding_input2.txt\"\n",
    "output_file = ditk_path+\"/graph/embedding/opa2vec/test/sample_output.txt\"\n",
    "file_name.append(onto)\n",
    "file_name.append(association)\n",
    "file_name.append(output_file)"
   ]
  },
  {
   "cell_type": "code",
   "execution_count": 12,
   "metadata": {},
   "outputs": [],
   "source": [
    "#instantiate the implemented class\n",
    "opa_obj = OPA2VEC()"
   ]
  },
  {
   "cell_type": "code",
   "execution_count": 13,
   "metadata": {},
   "outputs": [
    {
     "name": "stdout",
     "output_type": "stream",
     "text": [
      "***********OPA2Vec Running ...***********\n",
      "\n",
      "***********Ontology Processing ...***********\n",
      "\n",
      "***********Ontology Processing Complete ...***********\n",
      "\n"
     ]
    }
   ],
   "source": [
    "# read data\n",
    "ontology,association = opa_obj.read_dataset(file_name)"
   ]
  },
  {
   "cell_type": "code",
   "execution_count": 14,
   "metadata": {},
   "outputs": [
    {
     "data": {
      "text/plain": [
       "['UniProtKB\\tA0A000\\tenables\\tGO:0003824\\tGO_REF:0000002\\tECO:0000256\\tInterPro:IPR015421|InterPro:IPR015422\\t\\t20190406\\tInterPro\\t\\t',\n",
       " 'UniProtKB\\tA0A000\\tenables\\tGO:0003870\\tGO_REF:0000002\\tECO:0000256\\tInterPro:IPR010961\\t\\t20190406\\tInterPro\\t\\t',\n",
       " 'UniProtKB\\tA0A000\\tenables\\tGO:0030170\\tGO_REF:0000002\\tECO:0000256\\tInterPro:IPR004839|InterPro:IPR010961\\t\\t20190406\\tInterPro\\t\\t',\n",
       " 'UniProtKB\\tA0A000\\tinvolved_in\\tGO:0009058\\tGO_REF:0000002\\tECO:0000256\\tInterPro:IPR004839\\t\\t20190406\\tInterPro\\t\\t',\n",
       " 'UniProtKB\\tA0A000\\tinvolved_in\\tGO:0033014\\tGO_REF:0000002\\tECO:0000256\\tInterPro:IPR010961\\t\\t20190406\\tInterPro\\t\\t',\n",
       " 'UniProtKB\\tA0A001\\tenables\\tGO:0000166\\tGO_REF:0000038\\tECO:0000323\\tUniProtKB-KW:KW-0547\\t\\t20190406\\tUniProt\\t\\t',\n",
       " 'UniProtKB\\tA0A001\\tenables\\tGO:0000166\\tGO_REF:0000104\\tECO:0000256\\tUniRule:UR000400038\\t\\t20190406\\tUniProt\\t\\t',\n",
       " 'UniProtKB\\tA0A001\\tenables\\tGO:0005524\\tGO_REF:0000002\\tECO:0000256\\tInterPro:IPR003439|InterPro:IPR011527|InterPro:IPR017871|InterPro:IPR036640\\t\\t20190406\\tInterPro\\t\\t',\n",
       " 'UniProtKB\\tA0A001\\tenables\\tGO:0005524\\tGO_REF:0000038\\tECO:0000323\\tUniProtKB-KW:KW-0067\\t\\t20190406\\tUniProt\\t\\t',\n",
       " 'UniProtKB\\tA0A001\\tenables\\tGO:0005524\\tGO_REF:0000104\\tECO:0000256\\tUniRule:UR000400038\\t\\t20190406\\tUniProt\\t\\t',\n",
       " 'UniProtKB\\tA0A001\\tenables\\tGO:0016887\\tGO_REF:0000002\\tECO:0000256\\tInterPro:IPR003439|InterPro:IPR017871\\t\\t20190406\\tInterPro\\t\\t',\n",
       " 'UniProtKB\\tA0A001\\tenables\\tGO:0042626\\tGO_REF:0000002\\tECO:0000256\\tInterPro:IPR011527\\t\\t20190406\\tInterPro\\t\\t',\n",
       " 'UniProtKB\\tA0A001\\tinvolved_in\\tGO:0055085\\tGO_REF:0000002\\tECO:0000256\\tInterPro:IPR011527\\t\\t20190406\\tInterPro\\t\\t',\n",
       " 'UniProtKB\\tA0A001\\tpart_of\\tGO:0016020\\tGO_REF:0000038\\tECO:0000323\\tUniProtKB-KW:KW-0472\\t\\t20190406\\tUniProt\\t\\t',\n",
       " 'UniProtKB\\tA0A001\\tpart_of\\tGO:0016021\\tGO_REF:0000002\\tECO:0000256\\tInterPro:IPR011527|InterPro:IPR036640\\t\\t20190406\\tInterPro\\t\\t',\n",
       " 'UniProtKB\\tA0A001\\tpart_of\\tGO:0016021\\tGO_REF:0000038\\tECO:0000323\\tUniProtKB-KW:KW-0812\\t\\t20190406\\tUniProt\\t\\t',\n",
       " 'UniProtKB\\tA0A002\\tenables\\tGO:0000166\\tGO_REF:0000038\\tECO:0000323\\tUniProtKB-KW:KW-0547\\t\\t20190406\\tUniProt\\t\\t',\n",
       " 'UniProtKB\\tA0A002\\tenables\\tGO:0000166\\tGO_REF:0000104\\tECO:0000256\\tUniRule:UR000400038\\t\\t20190406\\tUniProt\\t\\t',\n",
       " 'UniProtKB\\tA0A002\\tenables\\tGO:0005524\\tGO_REF:0000002\\tECO:0000256\\tInterPro:IPR003439|InterPro:IPR011527|InterPro:IPR036640\\t\\t20190406\\tInterPro\\t\\t',\n",
       " 'UniProtKB\\tA0A002\\tenables\\tGO:0005524\\tGO_REF:0000038\\tECO:0000323\\tUniProtKB-KW:KW-0067\\t\\t20190406\\tUniProt\\t\\t',\n",
       " 'UniProtKB\\tA0A002\\tenables\\tGO:0005524\\tGO_REF:0000104\\tECO:0000256\\tUniRule:UR000400038\\t\\t20190406\\tUniProt\\t\\t',\n",
       " 'UniProtKB\\tA0A002\\tenables\\tGO:0016887\\tGO_REF:0000002\\tECO:0000256\\tInterPro:IPR003439\\t\\t20190406\\tInterPro\\t\\t',\n",
       " 'UniProtKB\\tA0A002\\tenables\\tGO:0042626\\tGO_REF:0000002\\tECO:0000256\\tInterPro:IPR011527\\t\\t20190406\\tInterPro\\t\\t',\n",
       " 'UniProtKB\\tA0A002\\tinvolved_in\\tGO:0055085\\tGO_REF:0000002\\tECO:0000256\\tInterPro:IPR011527\\t\\t20190406\\tInterPro\\t\\t',\n",
       " 'UniProtKB\\tA0A002\\tpart_of\\tGO:0016020\\tGO_REF:0000038\\tECO:0000323\\tUniProtKB-KW:KW-0472\\t\\t20190406\\tUniProt\\t\\t',\n",
       " 'UniProtKB\\tA0A002\\tpart_of\\tGO:0016021\\tGO_REF:0000002\\tECO:0000256\\tInterPro:IPR011527|InterPro:IPR036640\\t\\t20190406\\tInterPro\\t\\t',\n",
       " 'UniProtKB\\tA0A002\\tpart_of\\tGO:0016021\\tGO_REF:0000038\\tECO:0000323\\tUniProtKB-KW:KW-0812\\t\\t20190406\\tUniProt\\t\\t',\n",
       " 'UniProtKB\\tA0A003\\tenables\\tGO:0003824\\tGO_REF:0000002\\tECO:0000256\\tInterPro:IPR001509\\t\\t20190406\\tInterPro\\t\\t',\n",
       " 'UniProtKB\\tA0A003\\tenables\\tGO:0050662\\tGO_REF:0000002\\tECO:0000256\\tInterPro:IPR001509\\t\\t20190406\\tInterPro\\t\\t',\n",
       " 'UniProtKB\\tA0A004\\tenables\\tGO:0000166\\tGO_REF:0000038\\tECO:0000323\\tUniProtKB-KW:KW-0547\\t\\t20190406\\tUniProt\\t\\t',\n",
       " 'UniProtKB\\tA0A004\\tenables\\tGO:0004066\\tGO_REF:0000002\\tECO:0000256\\tInterPro:IPR001962|InterPro:IPR006426\\t\\t20190406\\tInterPro\\t\\t',\n",
       " 'UniProtKB\\tA0A004\\tenables\\tGO:0005524\\tGO_REF:0000038\\tECO:0000323\\tUniProtKB-KW:KW-0067\\t\\t20190406\\tUniProt\\t\\t',\n",
       " 'UniProtKB\\tA0A004\\tinvolved_in\\tGO:0006529\\tGO_REF:0000002\\tECO:0000256\\tInterPro:IPR001962|InterPro:IPR006426\\t\\t20190406\\tInterPro\\t\\t',\n",
       " 'UniProtKB\\tA0A004\\tinvolved_in\\tGO:0006529\\tGO_REF:0000038\\tECO:0000323\\tUniProtKB-KW:KW-0061\\t\\t20190406\\tUniProt\\t\\t',\n",
       " 'UniProtKB\\tA0A004\\tinvolved_in\\tGO:0006541\\tGO_REF:0000038\\tECO:0000323\\tUniProtKB-KW:KW-0315\\t\\t20190406\\tUniProt\\t\\t',\n",
       " 'UniProtKB\\tA0A004\\tinvolved_in\\tGO:0008652\\tGO_REF:0000038\\tECO:0000323\\tUniProtKB-KW:KW-0028\\t\\t20190406\\tUniProt\\t\\t',\n",
       " 'UniProtKB\\tA0A007\\tenables\\tGO:0003824\\tGO_REF:0000002\\tECO:0000256\\tInterPro:IPR006638|InterPro:IPR007197\\t\\t20190406\\tInterPro\\t\\t',\n",
       " 'UniProtKB\\tA0A007\\tenables\\tGO:0031419\\tGO_REF:0000002\\tECO:0000256\\tInterPro:IPR006158\\t\\t20190406\\tInterPro\\t\\t',\n",
       " 'UniProtKB\\tA0A007\\tenables\\tGO:0046872\\tGO_REF:0000002\\tECO:0000256\\tInterPro:IPR006158\\t\\t20190406\\tInterPro\\t\\t',\n",
       " 'UniProtKB\\tA0A007\\tenables\\tGO:0051536\\tGO_REF:0000002\\tECO:0000256\\tInterPro:IPR006638|InterPro:IPR007197\\t\\t20190406\\tInterPro\\t\\t',\n",
       " 'UniProtKB\\tA0A009\\tenables\\tGO:0003824\\tGO_REF:0000002\\tECO:0000256\\tInterPro:IPR003696\\t\\t20190406\\tInterPro\\t\\t',\n",
       " 'UniProtKB\\tA0A009\\tinvolved_in\\tGO:0009058\\tGO_REF:0000002\\tECO:0000256\\tInterPro:IPR003696\\t\\t20190406\\tInterPro\\t\\t',\n",
       " 'UniProtKB\\tA0A009DWE1\\tenables\\tGO:0022857\\tGO_REF:0000002\\tECO:0000256\\tInterPro:IPR001036\\t\\t20190406\\tInterPro\\t\\t',\n",
       " 'UniProtKB\\tA0A009DWE1\\tinvolved_in\\tGO:0055085\\tGO_REF:0000002\\tECO:0000256\\tInterPro:IPR001036\\t\\t20190406\\tInterPro\\t\\t',\n",
       " 'UniProtKB\\tA0A009DWE1\\tpart_of\\tGO:0016020\\tGO_REF:0000002\\tECO:0000256\\tInterPro:IPR001036\\t\\t20190406\\tInterPro\\t\\t',\n",
       " 'UniProtKB\\tA0A009DWH9\\tenables\\tGO:0003677\\tGO_REF:0000002\\tECO:0000256\\tInterPro:IPR009057\\t\\t20190406\\tInterPro\\t\\t',\n",
       " 'UniProtKB\\tA0A009DWJ5\\tinvolved_in\\tGO:0032196\\tGO_REF:0000002\\tECO:0000256\\tInterPro:IPR038965\\t\\t20190406\\tInterPro\\t\\t',\n",
       " 'UniProtKB\\tA0A009DWL0\\tinvolved_in\\tGO:0032196\\tGO_REF:0000002\\tECO:0000256\\tInterPro:IPR038965\\t\\t20190406\\tInterPro\\t\\t',\n",
       " 'UniProtKB\\tA0A009DWL5\\tenables\\tGO:0004519\\tGO_REF:0000038\\tECO:0000323\\tUniProtKB-KW:KW-0255\\t\\t20190406\\tUniProt\\t\\t',\n",
       " 'UniProtKB\\tA0A009DWL5\\tinvolved_in\\tGO:0090305\\tGO_REF:0000108\\tECO:0000366\\tGO:0004519\\t\\t20190406\\tGOC\\t\\t',\n",
       " 'UniProtKB\\tA0A009DWM1\\tinvolved_in\\tGO:0006825\\tGO_REF:0000002\\tECO:0000256\\tInterPro:IPR032694\\t\\t20190406\\tInterPro\\t\\t',\n",
       " 'UniProtKB\\tA0A009DWM1\\tpart_of\\tGO:0016020\\tGO_REF:0000038\\tECO:0000323\\tUniProtKB-KW:KW-0472\\t\\t20190406\\tUniProt\\t\\t',\n",
       " 'UniProtKB\\tA0A009DWM1\\tpart_of\\tGO:0016021\\tGO_REF:0000002\\tECO:0000256\\tInterPro:IPR008457\\t\\t20190406\\tInterPro\\t\\t',\n",
       " 'UniProtKB\\tA0A009DWM1\\tpart_of\\tGO:0016021\\tGO_REF:0000038\\tECO:0000323\\tUniProtKB-KW:KW-0812\\t\\t20190406\\tUniProt\\t\\t',\n",
       " 'UniProtKB\\tA0A009DWN1\\tenables\\tGO:0003746\\tGO_REF:0000038\\tECO:0000323\\tUniProtKB-KW:KW-0251\\t\\t20190406\\tUniProt\\t\\t',\n",
       " 'UniProtKB\\tA0A009DWN1\\tenables\\tGO:0005525\\tGO_REF:0000002\\tECO:0000256\\tInterPro:IPR004161\\t\\t20190406\\tInterPro\\t\\t',\n",
       " 'UniProtKB\\tA0A009DWN1\\tinvolved_in\\tGO:0006414\\tGO_REF:0000038\\tECO:0000323\\tUniProtKB-KW:KW-0251\\t\\t20190406\\tUniProt\\t\\t',\n",
       " 'UniProtKB\\tA0A009DWP3\\tenables\\tGO:0003676\\tGO_REF:0000002\\tECO:0000256\\tInterPro:IPR036397\\t\\t20190406\\tInterPro\\t\\t',\n",
       " 'UniProtKB\\tA0A009DWP3\\tinvolved_in\\tGO:0015074\\tGO_REF:0000002\\tECO:0000256\\tInterPro:IPR001584\\t\\t20190406\\tInterPro\\t\\t',\n",
       " 'UniProtKB\\tA0A009DWW6\\tenables\\tGO:0003677\\tGO_REF:0000002\\tECO:0000256\\tInterPro:IPR001867|InterPro:IPR006291|InterPro:IPR016032\\t\\t20190406\\tInterPro\\t\\t',\n",
       " 'UniProtKB\\tA0A009DWW6\\tenables\\tGO:0003677\\tGO_REF:0000038\\tECO:0000323\\tUniProtKB-KW:KW-0238\\t\\t20190406\\tUniProt\\t\\t',\n",
       " 'UniProtKB\\tA0A009DWW6\\tenables\\tGO:0003677\\tGO_REF:0000104\\tECO:0000256\\tUniRule:UR000414392\\t\\t20190406\\tUniProt\\t\\t',\n",
       " 'UniProtKB\\tA0A009DWW6\\tinvolved_in\\tGO:0000160\\tGO_REF:0000002\\tECO:0000256\\tInterPro:IPR001789|InterPro:IPR001867\\t\\t20190406\\tInterPro\\t\\t',\n",
       " 'UniProtKB\\tA0A009DWW6\\tinvolved_in\\tGO:0006355\\tGO_REF:0000002\\tECO:0000256\\tInterPro:IPR001867|InterPro:IPR006291|InterPro:IPR016032\\t\\t20190406\\tInterPro\\t\\t',\n",
       " 'UniProtKB\\tA0A009DXE7\\tenables\\tGO:0000150\\tGO_REF:0000002\\tECO:0000256\\tInterPro:IPR006118|InterPro:IPR006119|InterPro:IPR036162\\t\\t20190406\\tInterPro\\t\\t',\n",
       " 'UniProtKB\\tA0A009DXE7\\tenables\\tGO:0003677\\tGO_REF:0000002\\tECO:0000256\\tInterPro:IPR006119|InterPro:IPR036162\\t\\t20190406\\tInterPro\\t\\t',\n",
       " 'UniProtKB\\tA0A009DXE7\\tinvolved_in\\tGO:0006310\\tGO_REF:0000002\\tECO:0000256\\tInterPro:IPR006118|InterPro:IPR006119|InterPro:IPR036162\\t\\t20190406\\tInterPro\\t\\t',\n",
       " 'UniProtKB\\tA0A009DXM2\\tenables\\tGO:0003677\\tGO_REF:0000002\\tECO:0000256\\tInterPro:IPR001647|InterPro:IPR009057\\t\\t20190406\\tInterPro\\t\\t',\n",
       " 'UniProtKB\\tA0A009DXM2\\tenables\\tGO:0003677\\tGO_REF:0000038\\tECO:0000323\\tUniProtKB-KW:KW-0238\\t\\t20190406\\tUniProt\\t\\t',\n",
       " 'UniProtKB\\tA0A009DXR6\\tenables\\tGO:0003677\\tGO_REF:0000002\\tECO:0000256\\tInterPro:IPR002514|InterPro:IPR009057\\t\\t20190406\\tInterPro\\t\\t',\n",
       " 'UniProtKB\\tA0A009DXR6\\tenables\\tGO:0004803\\tGO_REF:0000002\\tECO:0000256\\tInterPro:IPR002514\\t\\t20190406\\tInterPro\\t\\t',\n",
       " 'UniProtKB\\tA0A009DXR6\\tinvolved_in\\tGO:0006313\\tGO_REF:0000002\\tECO:0000256\\tInterPro:IPR002514\\t\\t20190406\\tInterPro\\t\\t',\n",
       " 'UniProtKB\\tA0A009DXW5\\tenables\\tGO:0003677\\tGO_REF:0000002\\tECO:0000256\\tInterPro:IPR009057\\t\\t20190406\\tInterPro\\t\\t',\n",
       " 'UniProtKB\\tA0A009DXY7\\tenables\\tGO:0005507\\tGO_REF:0000002\\tECO:0000256\\tInterPro:IPR011707\\t\\t20190406\\tInterPro\\t\\t']"
      ]
     },
     "execution_count": 14,
     "metadata": {},
     "output_type": "execute_result"
    }
   ],
   "source": [
    "association"
   ]
  },
  {
   "cell_type": "code",
   "execution_count": 15,
   "metadata": {},
   "outputs": [
    {
     "name": "stdout",
     "output_type": "stream",
     "text": [
      "\n",
      "\n",
      "\n",
      "\n",
      "\n",
      "\n",
      "\n",
      "\n",
      "\n",
      "/Users/vivekmishra/Desktop/USC/548/ditk\n",
      "***********Metadata Extraction ...***********\n",
      "\n",
      "***********Metadata Extraction Complete ...***********\n",
      "\n",
      "***********Propagate Associations through hierarchy ...***********\n",
      "\n",
      "***********Association propagation Complete ...***********\n",
      "***********Corpus Creation ...***********\n",
      "\n",
      "***********Corpus Creation Complete ...***********\n",
      "\n",
      "***********Running Word2Vec ...*********** \n",
      "\n",
      "***********Vector representations available at AllVectorResults.lst ***********\n",
      "\n",
      "***********OPA2Vec Complete ...***********\n",
      "\n"
     ]
    }
   ],
   "source": [
    " # learn embeddings\n",
    " embeddings = opa_obj.learn_embeddings(file_name)"
   ]
  },
  {
   "cell_type": "code",
   "execution_count": 16,
   "metadata": {},
   "outputs": [
    {
     "name": "stdout",
     "output_type": "stream",
     "text": [
      "{'cosine_similarity': 0.5628212690353394}\n"
     ]
    }
   ],
   "source": [
    "# Eval\n",
    "results = opa_obj.evaluate(embeddings)\n",
    "print(results)"
   ]
  },
  {
   "cell_type": "code",
   "execution_count": null,
   "metadata": {},
   "outputs": [],
   "source": []
  }
 ],
 "metadata": {
  "kernelspec": {
   "display_name": "Python 3",
   "language": "python",
   "name": "python3"
  },
  "language_info": {
   "codemirror_mode": {
    "name": "ipython",
    "version": 3
   },
   "file_extension": ".py",
   "mimetype": "text/x-python",
   "name": "python",
   "nbconvert_exporter": "python",
   "pygments_lexer": "ipython3",
   "version": "3.6.8"
  }
 },
 "nbformat": 4,
 "nbformat_minor": 2
}
